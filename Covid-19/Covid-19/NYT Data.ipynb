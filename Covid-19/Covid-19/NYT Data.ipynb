{
 "cells": [
  {
   "cell_type": "code",
   "execution_count": 1,
   "id": "cellular-cooperative",
   "metadata": {},
   "outputs": [],
   "source": [
    "import numpy as np\n",
    "import pandas as pd\n",
    "import io\n",
    "import requests as rq\n",
    "import matplotlib.pyplot as plt\n",
    "import seaborn as sns\n",
    "import time\n",
    "import datetime\n",
    "#yes"
   ]
  },
  {
   "cell_type": "code",
   "execution_count": 21,
   "id": "sought-underground",
   "metadata": {},
   "outputs": [],
   "source": [
    "class NYTData:\n",
    "\n",
    "    #Constructor\n",
    "    def __init__(self):\n",
    "        from datetime import date\n",
    "        self.statedf = None\n",
    "        self.countydf = None\n",
    "        self._stateupdated = None\n",
    "        self._countyupdated = None\n",
    "        self._processed = None\n",
    "        self._today = date.today()\n",
    "\n",
    "    #Today's Date\n",
    "    def today(self):\n",
    "        print(\"Today is\", self._today)\n",
    "        \n",
    "    def seeData(self):\n",
    "        if self._stateupdated:\n",
    "            print(\"First 5 rows of the state data\")\n",
    "            print(self.statedf.head())\n",
    "        if self._countyupdated:\n",
    "            print()\n",
    "            print(\"First 5 rows of the county data\")\n",
    "            print(self.countydf.head())\n",
    "\n",
    "    #Updates the State Data File\n",
    "    def updateState(self, url = \"https://raw.githubusercontent.com/nytimes/covid-19-data/master/us-states.csv\"):\n",
    "        url = url\n",
    "        s = rq.get(url).content\n",
    "        self.statedf = pd.read_csv(io.StringIO(s.decode('utf-8')))\n",
    "        self.statedf['date'] = pd.to_datetime(self.statedf['date'], format = '%Y-%m-%d')\n",
    "        self._stateupdated = True\n",
    "\n",
    "    # Updates the County Data File\n",
    "    def updateCounty(self, url =\"https://raw.githubusercontent.com/nytimes/covid-19-data/master/us-counties.csv\" ):\n",
    "        s = rq.get(url).content\n",
    "        self.countydf = pd.read_csv(io.StringIO(s.decode('utf-8')))\n",
    "        self.countydf['date'] = pd.to_datetime(self.countydf['date'], format='%Y-%m-%d')\n",
    "        self._countyupdated = True\n",
    "\n",
    "    #Prints last day the state data was updated\n",
    "    def dateStateupdated(self):\n",
    "        if self._stateupdated:\n",
    "            print(\"Date of the latest state data\", self.statedf.iloc[-1]['date'].date())\n",
    "        else:\n",
    "            print(\"Data hasn't been updated once\")\n",
    "\n",
    "    # Prints last day the county data was updated\n",
    "    def dateCountyupdated(self):\n",
    "        if self._countyupdated:\n",
    "            print(\"Date of the latest county data\", self.statedf.iloc[-1]['date'].date())\n",
    "        else:\n",
    "            print(\"County Data hasn't been updated once\")\n",
    "\n",
    "    #creates new cases and new deaths\n",
    "    def new_cases_deaths(self):\n",
    "        self.statedata = {}\n",
    "        self.countydata = {}\n",
    "        pd.set_option(\"mode.chained_assignment\", None)\n",
    "        if self._stateupdated:\n",
    "            self.statelist = list(self.statedf['state'].unique())\n",
    "            for s in self.statelist:\n",
    "                statedf = self.statedf[self.statedf['state'] == s]\n",
    "                statedf['newcases'] = statedf['cases'].diff()\n",
    "                statedf['newdeaths'] = statedf['deaths'].diff()\n",
    "                self.statedata[s] = statedf\n",
    "        if self._countyupdated:\n",
    "            self.countylist = list(self.countydf['county'].unique())\n",
    "            for c in self.countylist:\n",
    "                countydf = self.countydf[self.countydf['county'] == c]\n",
    "                countydf['newcases'] = countydf['cases'].diff()\n",
    "                countydf['newdeaths'] = countydf['deaths'].diff()\n",
    "                self.countydata[s] = countydf"
   ]
  },
  {
   "cell_type": "code",
   "execution_count": 13,
   "id": "mysterious-isaac",
   "metadata": {},
   "outputs": [],
   "source": [
    "n = NYTData()"
   ]
  },
  {
   "cell_type": "code",
   "execution_count": 14,
   "id": "invisible-coordinator",
   "metadata": {},
   "outputs": [
    {
     "name": "stdout",
     "output_type": "stream",
     "text": [
      "Today is 2021-04-30\n"
     ]
    }
   ],
   "source": [
    "n.today()"
   ]
  },
  {
   "cell_type": "code",
   "execution_count": 15,
   "id": "interim-router",
   "metadata": {},
   "outputs": [],
   "source": [
    "n.updateState()"
   ]
  },
  {
   "cell_type": "code",
   "execution_count": 16,
   "id": "severe-acquisition",
   "metadata": {},
   "outputs": [],
   "source": [
    "n.updateCounty()"
   ]
  },
  {
   "cell_type": "code",
   "execution_count": 17,
   "id": "employed-duncan",
   "metadata": {},
   "outputs": [
    {
     "name": "stdout",
     "output_type": "stream",
     "text": [
      "Date of the latest county data 2021-04-29\n"
     ]
    }
   ],
   "source": [
    "n.dateCountyupdated()"
   ]
  },
  {
   "cell_type": "code",
   "execution_count": 18,
   "id": "continent-angola",
   "metadata": {},
   "outputs": [
    {
     "name": "stdout",
     "output_type": "stream",
     "text": [
      "Date of the latest state data 2021-04-29\n"
     ]
    }
   ],
   "source": [
    "n.dateStateupdated()"
   ]
  },
  {
   "cell_type": "code",
   "execution_count": 22,
   "id": "rural-islam",
   "metadata": {},
   "outputs": [],
   "source": [
    "n.new_cases_deaths()"
   ]
  },
  {
   "cell_type": "code",
   "execution_count": 20,
   "id": "conservative-change",
   "metadata": {},
   "outputs": [
    {
     "name": "stdout",
     "output_type": "stream",
     "text": [
      "First 5 rows of the state data\n",
      "        date       state  fips  cases  deaths\n",
      "0 2020-01-21  Washington    53      1       0\n",
      "1 2020-01-22  Washington    53      1       0\n",
      "2 2020-01-23  Washington    53      1       0\n",
      "3 2020-01-24    Illinois    17      1       0\n",
      "4 2020-01-24  Washington    53      1       0\n",
      "\n",
      "First 5 rows of the county data\n",
      "        date     county       state     fips  cases  deaths\n",
      "0 2020-01-21  Snohomish  Washington  53061.0      1     0.0\n",
      "1 2020-01-22  Snohomish  Washington  53061.0      1     0.0\n",
      "2 2020-01-23  Snohomish  Washington  53061.0      1     0.0\n",
      "3 2020-01-24       Cook    Illinois  17031.0      1     0.0\n",
      "4 2020-01-24  Snohomish  Washington  53061.0      1     0.0\n"
     ]
    }
   ],
   "source": [
    "n.seeData()"
   ]
  },
  {
   "cell_type": "code",
   "execution_count": null,
   "id": "eastern-offering",
   "metadata": {},
   "outputs": [],
   "source": []
  }
 ],
 "metadata": {
  "kernelspec": {
   "display_name": "Python 3",
   "language": "python",
   "name": "python3"
  },
  "language_info": {
   "codemirror_mode": {
    "name": "ipython",
    "version": 3
   },
   "file_extension": ".py",
   "mimetype": "text/x-python",
   "name": "python",
   "nbconvert_exporter": "python",
   "pygments_lexer": "ipython3",
   "version": "3.9.1"
  }
 },
 "nbformat": 4,
 "nbformat_minor": 5
}
